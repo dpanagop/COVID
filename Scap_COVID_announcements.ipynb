{
  "nbformat": 4,
  "nbformat_minor": 0,
  "metadata": {
    "colab": {
      "name": "Scap COVID announcements.ipynb",
      "provenance": [],
      "collapsed_sections": [],
      "authorship_tag": "ABX9TyPZRSblFPkBBItBYaHYCvGr",
      "include_colab_link": true
    },
    "kernelspec": {
      "name": "python3",
      "display_name": "Python 3"
    }
  },
  "cells": [
    {
      "cell_type": "markdown",
      "metadata": {
        "id": "view-in-github",
        "colab_type": "text"
      },
      "source": [
        "<a href=\"https://colab.research.google.com/github/dpanagop/COVID/blob/main/Scap_COVID_announcements.ipynb\" target=\"_parent\"><img src=\"https://colab.research.google.com/assets/colab-badge.svg\" alt=\"Open In Colab\"/></a>"
      ]
    },
    {
      "cell_type": "markdown",
      "metadata": {
        "id": "VShxbATmEy1S"
      },
      "source": [
        "# General Information\n",
        "This notebook scraps information from the daily press release of Greece's National Public Health Organisation (EODY) about \n",
        "*   the number of hospitalised COVID-19 patients that receive respiratory help\n",
        "*   the number of deaths that are attributed to COVID-19\n",
        "\n",
        "The page with the announcements is https://eody.gov.gr/category/anakoinoseis/\n",
        "We are interested in annonucements related to the daily COVID-19 preess release. This is title \"Ημερήσια έκθεση επιτήρησης COVID-19\" (ex. https://eody.gov.gr/20201113_briefing_covid19/ ) \n",
        "\n",
        "\n",
        "**Please Note:** The output of several cells has been deleted before saving the notebook to make it more readable. In fact this output was valuable when developing/debugging the code "
      ]
    },
    {
      "cell_type": "code",
      "metadata": {
        "id": "jAJAuC9lRsYo"
      },
      "source": [
        "# Importing necessary libraries\n",
        "import requests\n",
        "import pandas as pd\n",
        "from bs4 import BeautifulSoup\n",
        "import re"
      ],
      "execution_count": 1,
      "outputs": []
    },
    {
      "cell_type": "code",
      "metadata": {
        "id": "iDCCUVZ2SXdJ"
      },
      "source": [
        "def get_announcement(url=\"\",search=\"\"):\n",
        "  \"\"\" A function that takes a url as input and returns a list with all the \n",
        "      links that contain the string in search variable\"\"\" \n",
        "  results=[]\n",
        "  page = requests.get(url)\n",
        "  soup = BeautifulSoup(page.content, 'html.parser')\n",
        "  for label in soup.find_all(\"a\",attrs={\"aria-label\":True}):\n",
        "    text=label.contents[0]\n",
        "    if text.find(search)>=0:\n",
        "      # the next two print functions can be removed, they are used for debugging\n",
        "      print(text)   \n",
        "      print(label['href'])\n",
        "      results.append(label['href'])\n",
        "  return(results)"
      ],
      "execution_count": 2,
      "outputs": []
    },
    {
      "cell_type": "markdown",
      "metadata": {
        "id": "XN8mbxHfIn7M"
      },
      "source": [
        "An inspection of \"https://eody.gov.gr/category/anakoinoseis/\" shows that it contains at the bottom links to next pages. In HTML code such a link is in an ```<a class=\"next page-numbers\" href=...>```  element.\n",
        "\n",
        "The loop bellow starts with a url and searches for links to the COVID daily releases with the get_announcement function. If the url contains a link to a next page, then the loop repeats using this new page. The links are stored in a list named announcements."
      ]
    },
    {
      "cell_type": "code",
      "metadata": {
        "id": "wWLm4CPtc6ck"
      },
      "source": [
        "announcements=[] #the urls of daily press releases\n",
        "url=\"https://eody.gov.gr/category/anakoinoseis/\"\n",
        "announcements=get_announcement(url=url,search=\"Ημερήσια έκθεση επιτήρησης COVID-19\")\n",
        "page = requests.get(url)\n",
        "soup = BeautifulSoup(page.content, 'html.parser')\n",
        "next_page=soup.find(\"a\",{'class': 'next page-numbers'})\n",
        "while next_page:\n",
        "  url=next_page[\"href\"]\n",
        "  print(\"Checking page \"+url)\n",
        "  new_announcements=get_announcement(url=url,search=\"Ημερήσια έκθεση επιτήρησης COVID-19\")\n",
        "  if len(new_announcements)>0:\n",
        "    announcements=announcements+new_announcements\n",
        "  page = requests.get(url)\n",
        "  soup = BeautifulSoup(page.content, 'html.parser')\n",
        "  next_page=soup.find(\"a\",{'class': 'next page-numbers'})"
      ],
      "execution_count": null,
      "outputs": []
    },
    {
      "cell_type": "markdown",
      "metadata": {
        "id": "zLLjEmORMePb"
      },
      "source": [
        "An inspection of the above output reveals that the format of the daily press releases has changed from something like\n",
        "https://eody.gov.gr/20201113_briefing_covid19/ to https://eody.gov.gr/0915_briefing_covid19/\n",
        "Ie. from ```https://eody.gov.gr/(**date**)_briefing_covid19/``` to  ```https://eody.gov.gr/(**post_ID**)_briefing_covid19/```\n",
        "\n",
        "This justifies the use of a search string for detecting the press releases and not using their url format.\n",
        "\n",
        "\n",
        "Each page with a press release has several meta tags. We can use them to extract page's title and time of publication. An example is shown in the code below.\n"
      ]
    },
    {
      "cell_type": "code",
      "metadata": {
        "id": "6y8rw8LPe4s_",
        "outputId": "619eb7ad-8225-425c-9e8e-06a7531bb57f",
        "colab": {
          "base_uri": "https://localhost:8080/"
        }
      },
      "source": [
        "print(f'Using {announcements[0]} as example')\n",
        "page = requests.get(announcements[0])\n",
        "soup = BeautifulSoup(page.content, 'html.parser')\n",
        "title=soup.find('meta',{'property': 'og:title'})\n",
        "print(title['content'])\n",
        "timestamp=soup.find('meta',{'property': 'article:published_time'})\n",
        "print(timestamp['content'])"
      ],
      "execution_count": 4,
      "outputs": [
        {
          "output_type": "stream",
          "text": [
            "Using https://eody.gov.gr/20201114_briefing_covid19/ as example\n",
            "Ημερήσια έκθεση επιτήρησης COVID-19 (14/11/2020) - Εθνικός Οργανισμός Δημόσιας Υγείας\n",
            "2020-11-14T16:06:26+00:00\n"
          ],
          "name": "stdout"
        }
      ]
    },
    {
      "cell_type": "markdown",
      "metadata": {
        "id": "AgjOlCP7QWYI"
      },
      "source": [
        "The number of patients in ventilator is between the phrase\n",
        "\n",
        "*   \"σχετιζόμενα με ήδη γνωστό κρούσμα\" (it is part of the sentence that informs of the number of confirmed COVID cases that are related to other confirmed cases) and\n",
        "*   \"συμπολίτες μας νοσηλεύονται διασωληνωμένοι.\" (it means \"fellow citizens are hospitalised in respirator\")\n",
        "\n",
        "We extract the number between those two phrases.\n",
        "\n",
        "Then we do the same for the number of COVID deaths that is between\n",
        "\n",
        "\n",
        "*   \"Τέλος,\" (meaning \"Finnaly,\") and\n",
        "*   \"ακόμα καταγεγραμμέ\" (meaning \"more are recorded\")\n",
        "\n",
        "Actually, in the last phrase the second word is without the suffix because it changed from singular to plural.\n",
        "\n",
        "Bellow is the code used for the number extraction.\n",
        "\n",
        "\n",
        "\n",
        "\n",
        "\n",
        "\n"
      ]
    },
    {
      "cell_type": "code",
      "metadata": {
        "id": "W2qzBeDch9Xp",
        "outputId": "a0c4037a-155f-4dac-9944-adab86298679",
        "colab": {
          "base_uri": "https://localhost:8080/"
        }
      },
      "source": [
        "text=soup.prettify()\n",
        "ventilator_start=text.index(\"σχετιζόμενα με ήδη γνωστό κρούσμα\")\n",
        "ventilator_end=text.index(\"συμπολίτες μας νοσηλεύονται διασωληνωμένοι.\")\n",
        "ventilator= re.findall(r'\\b\\d+\\b', text[ventilator_start:ventilator_end])\n",
        "ventilator=int(ventilator[0])\n",
        "#print the text with the number of patients in respirator\n",
        "print(re.sub('<[^<]+?>', '', text[ventilator_start:ventilator_end+43])) \n",
        "print(ventilator)\n",
        "deaths_start=text.index(\"Τέλος,\")\n",
        "deaths_end=text.index(\"ακόμα καταγεγραμμέ\")\n",
        "deaths= re.findall(r'\\b\\d+\\b', text[deaths_start:deaths_end])\n",
        "deaths=int(deaths[0])\n",
        "# print the text with number of COVID deaths\n",
        "print(re.sub('<[^<]+?>', '', text[deaths_start:deaths_end+31]))\n",
        "print(deaths)"
      ],
      "execution_count": 5,
      "outputs": [
        {
          "output_type": "stream",
          "text": [
            "σχετιζόμενα με ήδη γνωστό κρούσμα.\n",
            "\n",
            "\n",
            " \n",
            "  366\n",
            " \n",
            " συμπολίτες μας νοσηλεύονται διασωληνωμένοι.\n",
            "366\n",
            "Τέλος, έχουμε\n",
            " \n",
            "  38\n",
            " \n",
            " ακόμα καταγεγραμμένους θανάτους\n",
            "38\n"
          ],
          "name": "stdout"
        }
      ]
    },
    {
      "cell_type": "markdown",
      "metadata": {
        "id": "ahp6ROjST29o"
      },
      "source": [
        "Finally, we create an dataframe named announcements_content that for each press release will hold the url, page's title, time of publication, number of pattents in respirator and COVID deaths.  "
      ]
    },
    {
      "cell_type": "code",
      "metadata": {
        "id": "y_3Xsaykr0TI",
        "outputId": "6cd7d944-4d79-4f30-8318-02039b7fb614",
        "colab": {
          "base_uri": "https://localhost:8080/",
          "height": 206
        }
      },
      "source": [
        "announcements_content=pd.DataFrame(announcements,columns=['url'])\n",
        "announcements_content['title']=\"\"\n",
        "announcements_content['timestamp']=\"\"\n",
        "announcements_content['ventilator']=\"\"\n",
        "announcements_content['deaths']=\"\"\n",
        "announcements_content.head()"
      ],
      "execution_count": 6,
      "outputs": [
        {
          "output_type": "execute_result",
          "data": {
            "text/html": [
              "<div>\n",
              "<style scoped>\n",
              "    .dataframe tbody tr th:only-of-type {\n",
              "        vertical-align: middle;\n",
              "    }\n",
              "\n",
              "    .dataframe tbody tr th {\n",
              "        vertical-align: top;\n",
              "    }\n",
              "\n",
              "    .dataframe thead th {\n",
              "        text-align: right;\n",
              "    }\n",
              "</style>\n",
              "<table border=\"1\" class=\"dataframe\">\n",
              "  <thead>\n",
              "    <tr style=\"text-align: right;\">\n",
              "      <th></th>\n",
              "      <th>url</th>\n",
              "      <th>title</th>\n",
              "      <th>timestamp</th>\n",
              "      <th>ventilator</th>\n",
              "      <th>deaths</th>\n",
              "    </tr>\n",
              "  </thead>\n",
              "  <tbody>\n",
              "    <tr>\n",
              "      <th>0</th>\n",
              "      <td>https://eody.gov.gr/20201114_briefing_covid19/</td>\n",
              "      <td></td>\n",
              "      <td></td>\n",
              "      <td></td>\n",
              "      <td></td>\n",
              "    </tr>\n",
              "    <tr>\n",
              "      <th>1</th>\n",
              "      <td>https://eody.gov.gr/20201113_briefing_covid19/</td>\n",
              "      <td></td>\n",
              "      <td></td>\n",
              "      <td></td>\n",
              "      <td></td>\n",
              "    </tr>\n",
              "    <tr>\n",
              "      <th>2</th>\n",
              "      <td>https://eody.gov.gr/20201112_briefing_covid19/</td>\n",
              "      <td></td>\n",
              "      <td></td>\n",
              "      <td></td>\n",
              "      <td></td>\n",
              "    </tr>\n",
              "    <tr>\n",
              "      <th>3</th>\n",
              "      <td>https://eody.gov.gr/20201111_briefing_covid19/</td>\n",
              "      <td></td>\n",
              "      <td></td>\n",
              "      <td></td>\n",
              "      <td></td>\n",
              "    </tr>\n",
              "    <tr>\n",
              "      <th>4</th>\n",
              "      <td>https://eody.gov.gr/20201110_briefing_covid19/</td>\n",
              "      <td></td>\n",
              "      <td></td>\n",
              "      <td></td>\n",
              "      <td></td>\n",
              "    </tr>\n",
              "  </tbody>\n",
              "</table>\n",
              "</div>"
            ],
            "text/plain": [
              "                                              url title  ... ventilator deaths\n",
              "0  https://eody.gov.gr/20201114_briefing_covid19/        ...                  \n",
              "1  https://eody.gov.gr/20201113_briefing_covid19/        ...                  \n",
              "2  https://eody.gov.gr/20201112_briefing_covid19/        ...                  \n",
              "3  https://eody.gov.gr/20201111_briefing_covid19/        ...                  \n",
              "4  https://eody.gov.gr/20201110_briefing_covid19/        ...                  \n",
              "\n",
              "[5 rows x 5 columns]"
            ]
          },
          "metadata": {
            "tags": []
          },
          "execution_count": 6
        }
      ]
    },
    {
      "cell_type": "markdown",
      "metadata": {
        "id": "5qP8TStvUchH"
      },
      "source": [
        "The for loop below gets the contenet of each announcement and populates the dataframe. Not that there is a try-catch part when extractiong number of COVID deaths. That is because there were some fortunate cases where no COVID death was announced.\n",
        "\n",
        "The code prints each url as well as the part of the texts about the hospitalized in respiratory patients and COVID deaths with the corresponding extracted numbers. This might seem unecessary clatter but it was valuable during the initial development for debugging reasons. "
      ]
    },
    {
      "cell_type": "code",
      "metadata": {
        "id": "DowKMTdIDljo"
      },
      "source": [
        "for idx,row in announcements_content.iterrows():\n",
        "  url=row['url']\n",
        "  print(f'Index {idx}')\n",
        "  print(url)\n",
        "  page = requests.get(url)\n",
        "  soup = BeautifulSoup(page.content, 'html.parser')\n",
        "  title=soup.find('meta',{'property': 'og:title'})\n",
        "  print(title['content'])\n",
        "  timestamp=soup.find('meta',{'property': 'article:published_time'})\n",
        "  text=soup.prettify()\n",
        "  ventilator_start=text.index(\"σχετιζόμενα με ήδη γνωστό κρούσμα\")\n",
        "  ventilator_end=text.index(\"συμπολίτες μας νοσηλεύονται διασωληνωμένοι.\")\n",
        "  ventilator= re.findall(r'\\b\\d+\\b', text[ventilator_start:ventilator_end])\n",
        "  ventilator=int(ventilator[0])\n",
        "  print(\"----VENTILATOR-----\")\n",
        "  print(re.sub('<[^<]+?>', '', text[ventilator_start:ventilator_end+43]))\n",
        "  print(ventilator)\n",
        "  try:\n",
        "   deaths_start=text.index(\"Τέλος,\")\n",
        "   deaths_end=text.index(\"ακόμα καταγεγραμμέ\")\n",
        "   deaths= re.findall(r'\\b\\d+\\b', text[deaths_start:deaths_end])\n",
        "   deaths=int(deaths[0])\n",
        "   print(\"----DEATHS----\")\n",
        "   print(re.sub('<[^<]+?>', '', text[deaths_start:deaths_end+31]))\n",
        "   print(deaths)\n",
        "  except:\n",
        "   print(\"DEATHS - not found\")\n",
        "   deaths=0\n",
        "  announcements_content['title'][idx]=title['content']\n",
        "  announcements_content['timestamp'][idx]=timestamp['content']\n",
        "  announcements_content['ventilator'][idx]=ventilator\n",
        "  announcements_content['deaths'][idx]=deaths"
      ],
      "execution_count": null,
      "outputs": []
    },
    {
      "cell_type": "code",
      "metadata": {
        "id": "u1aYM-6_FG2S",
        "outputId": "08888b60-cdf6-4104-c24e-ad49adcbd4c4",
        "colab": {
          "base_uri": "https://localhost:8080/",
          "height": 1000
        }
      },
      "source": [
        "announcements_content"
      ],
      "execution_count": 8,
      "outputs": [
        {
          "output_type": "execute_result",
          "data": {
            "text/html": [
              "<div>\n",
              "<style scoped>\n",
              "    .dataframe tbody tr th:only-of-type {\n",
              "        vertical-align: middle;\n",
              "    }\n",
              "\n",
              "    .dataframe tbody tr th {\n",
              "        vertical-align: top;\n",
              "    }\n",
              "\n",
              "    .dataframe thead th {\n",
              "        text-align: right;\n",
              "    }\n",
              "</style>\n",
              "<table border=\"1\" class=\"dataframe\">\n",
              "  <thead>\n",
              "    <tr style=\"text-align: right;\">\n",
              "      <th></th>\n",
              "      <th>url</th>\n",
              "      <th>title</th>\n",
              "      <th>timestamp</th>\n",
              "      <th>ventilator</th>\n",
              "      <th>deaths</th>\n",
              "    </tr>\n",
              "  </thead>\n",
              "  <tbody>\n",
              "    <tr>\n",
              "      <th>0</th>\n",
              "      <td>https://eody.gov.gr/20201114_briefing_covid19/</td>\n",
              "      <td>Ημερήσια έκθεση επιτήρησης COVID-19 (14/11/202...</td>\n",
              "      <td>2020-11-14T16:06:26+00:00</td>\n",
              "      <td>366</td>\n",
              "      <td>38</td>\n",
              "    </tr>\n",
              "    <tr>\n",
              "      <th>1</th>\n",
              "      <td>https://eody.gov.gr/20201113_briefing_covid19/</td>\n",
              "      <td>Ημερήσια έκθεση επιτήρησης COVID-19 (13/11/202...</td>\n",
              "      <td>2020-11-13T15:35:20+00:00</td>\n",
              "      <td>336</td>\n",
              "      <td>38</td>\n",
              "    </tr>\n",
              "    <tr>\n",
              "      <th>2</th>\n",
              "      <td>https://eody.gov.gr/20201112_briefing_covid19/</td>\n",
              "      <td>Ημερήσια έκθεση επιτήρησης COVID-19 (12/11/202...</td>\n",
              "      <td>2020-11-12T17:43:19+00:00</td>\n",
              "      <td>310</td>\n",
              "      <td>50</td>\n",
              "    </tr>\n",
              "    <tr>\n",
              "      <th>3</th>\n",
              "      <td>https://eody.gov.gr/20201111_briefing_covid19/</td>\n",
              "      <td>Ημερήσια έκθεση επιτήρησης COVID-19 (11/11/202...</td>\n",
              "      <td>2020-11-11T16:04:59+00:00</td>\n",
              "      <td>297</td>\n",
              "      <td>43</td>\n",
              "    </tr>\n",
              "    <tr>\n",
              "      <th>4</th>\n",
              "      <td>https://eody.gov.gr/20201110_briefing_covid19/</td>\n",
              "      <td>Ημερήσια έκθεση επιτήρησης COVID-19 (10/11/202...</td>\n",
              "      <td>2020-11-10T16:43:50+00:00</td>\n",
              "      <td>263</td>\n",
              "      <td>41</td>\n",
              "    </tr>\n",
              "    <tr>\n",
              "      <th>...</th>\n",
              "      <td>...</td>\n",
              "      <td>...</td>\n",
              "      <td>...</td>\n",
              "      <td>...</td>\n",
              "      <td>...</td>\n",
              "    </tr>\n",
              "    <tr>\n",
              "      <th>113</th>\n",
              "      <td>https://eody.gov.gr/0723_briefing_covid19/</td>\n",
              "      <td>Ημερήσια έκθεση επιτήρησης COVID-19 (23/07/202...</td>\n",
              "      <td>2020-07-23T15:03:58+00:00</td>\n",
              "      <td>8</td>\n",
              "      <td>1</td>\n",
              "    </tr>\n",
              "    <tr>\n",
              "      <th>114</th>\n",
              "      <td>https://eody.gov.gr/0722_briefing_covid19/</td>\n",
              "      <td>Ημερήσια έκθεση επιτήρησης COVID-19 (22/07/202...</td>\n",
              "      <td>2020-07-22T15:56:38+00:00</td>\n",
              "      <td>10</td>\n",
              "      <td>3</td>\n",
              "    </tr>\n",
              "    <tr>\n",
              "      <th>115</th>\n",
              "      <td>https://eody.gov.gr/0721_briefing_covid19/</td>\n",
              "      <td>Ημερήσια έκθεση επιτήρησης COVID-19 (21/07/202...</td>\n",
              "      <td>2020-07-21T16:07:41+00:00</td>\n",
              "      <td>10</td>\n",
              "      <td>2</td>\n",
              "    </tr>\n",
              "    <tr>\n",
              "      <th>116</th>\n",
              "      <td>https://eody.gov.gr/0720_briefing_covid19/</td>\n",
              "      <td>Ημερήσια έκθεση επιτήρησης COVID-19 (20/07/202...</td>\n",
              "      <td>2020-07-20T15:46:59+00:00</td>\n",
              "      <td>12</td>\n",
              "      <td>1</td>\n",
              "    </tr>\n",
              "    <tr>\n",
              "      <th>117</th>\n",
              "      <td>https://eody.gov.gr/0719_briefing_covid19/</td>\n",
              "      <td>Ημερήσια έκθεση επιτήρησης COVID-19 (19/07/202...</td>\n",
              "      <td>2020-07-19T15:30:30+00:00</td>\n",
              "      <td>13</td>\n",
              "      <td>0</td>\n",
              "    </tr>\n",
              "  </tbody>\n",
              "</table>\n",
              "<p>118 rows × 5 columns</p>\n",
              "</div>"
            ],
            "text/plain": [
              "                                                url  ... deaths\n",
              "0    https://eody.gov.gr/20201114_briefing_covid19/  ...     38\n",
              "1    https://eody.gov.gr/20201113_briefing_covid19/  ...     38\n",
              "2    https://eody.gov.gr/20201112_briefing_covid19/  ...     50\n",
              "3    https://eody.gov.gr/20201111_briefing_covid19/  ...     43\n",
              "4    https://eody.gov.gr/20201110_briefing_covid19/  ...     41\n",
              "..                                              ...  ...    ...\n",
              "113      https://eody.gov.gr/0723_briefing_covid19/  ...      1\n",
              "114      https://eody.gov.gr/0722_briefing_covid19/  ...      3\n",
              "115      https://eody.gov.gr/0721_briefing_covid19/  ...      2\n",
              "116      https://eody.gov.gr/0720_briefing_covid19/  ...      1\n",
              "117      https://eody.gov.gr/0719_briefing_covid19/  ...      0\n",
              "\n",
              "[118 rows x 5 columns]"
            ]
          },
          "metadata": {
            "tags": []
          },
          "execution_count": 8
        }
      ]
    },
    {
      "cell_type": "markdown",
      "metadata": {
        "id": "-OgKZrrKWVYy"
      },
      "source": [
        "The two cells below store the dataframe into xlsx format and use a google colab library to download it."
      ]
    },
    {
      "cell_type": "code",
      "metadata": {
        "id": "UYgrUrc_OyRM"
      },
      "source": [
        "from pandas import ExcelWriter\n",
        "writer = ExcelWriter('deaths_ventilator_20201114.xlsx')\n",
        "announcements_content.to_excel(writer,'all')\n",
        "writer.save()"
      ],
      "execution_count": 9,
      "outputs": []
    },
    {
      "cell_type": "code",
      "metadata": {
        "id": "lUwukpwjPY54",
        "outputId": "8b9f5328-c8c6-4f6d-9644-4755ea40d3ba",
        "colab": {
          "base_uri": "https://localhost:8080/",
          "height": 17
        }
      },
      "source": [
        "from google.colab import files\n",
        "files.download('deaths_ventilator_20201114.xlsx')"
      ],
      "execution_count": 10,
      "outputs": [
        {
          "output_type": "display_data",
          "data": {
            "application/javascript": [
              "\n",
              "    async function download(id, filename, size) {\n",
              "      if (!google.colab.kernel.accessAllowed) {\n",
              "        return;\n",
              "      }\n",
              "      const div = document.createElement('div');\n",
              "      const label = document.createElement('label');\n",
              "      label.textContent = `Downloading \"${filename}\": `;\n",
              "      div.appendChild(label);\n",
              "      const progress = document.createElement('progress');\n",
              "      progress.max = size;\n",
              "      div.appendChild(progress);\n",
              "      document.body.appendChild(div);\n",
              "\n",
              "      const buffers = [];\n",
              "      let downloaded = 0;\n",
              "\n",
              "      const channel = await google.colab.kernel.comms.open(id);\n",
              "      // Send a message to notify the kernel that we're ready.\n",
              "      channel.send({})\n",
              "\n",
              "      for await (const message of channel.messages) {\n",
              "        // Send a message to notify the kernel that we're ready.\n",
              "        channel.send({})\n",
              "        if (message.buffers) {\n",
              "          for (const buffer of message.buffers) {\n",
              "            buffers.push(buffer);\n",
              "            downloaded += buffer.byteLength;\n",
              "            progress.value = downloaded;\n",
              "          }\n",
              "        }\n",
              "      }\n",
              "      const blob = new Blob(buffers, {type: 'application/binary'});\n",
              "      const a = document.createElement('a');\n",
              "      a.href = window.URL.createObjectURL(blob);\n",
              "      a.download = filename;\n",
              "      div.appendChild(a);\n",
              "      a.click();\n",
              "      div.remove();\n",
              "    }\n",
              "  "
            ],
            "text/plain": [
              "<IPython.core.display.Javascript object>"
            ]
          },
          "metadata": {
            "tags": []
          }
        },
        {
          "output_type": "display_data",
          "data": {
            "application/javascript": [
              "download(\"download_b8f25a94-ea9b-4430-883e-b957222f9f8b\", \"deaths_ventilator_20201114.xlsx\", 10441)"
            ],
            "text/plain": [
              "<IPython.core.display.Javascript object>"
            ]
          },
          "metadata": {
            "tags": []
          }
        }
      ]
    }
  ]
}